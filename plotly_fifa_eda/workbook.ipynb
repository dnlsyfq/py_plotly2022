{
 "cells": [
  {
   "cell_type": "code",
   "execution_count": 2,
   "metadata": {
    "collapsed": true
   },
   "outputs": [],
   "source": [
    "import numpy as np\n",
    "import pandas as pd\n",
    "import plotly.graph_objects as go\n",
    "import plotly.express as px\n",
    "import plotly\n",
    "import re"
   ]
  },
  {
   "cell_type": "code",
   "execution_count": 3,
   "outputs": [
    {
     "data": {
      "text/plain": "   sofifa_id                                         player_url  \\\n0     158023  https://sofifa.com/player/158023/lionel-messi/...   \n1      20801  https://sofifa.com/player/20801/c-ronaldo-dos-...   \n2     190871  https://sofifa.com/player/190871/neymar-da-sil...   \n3     200389  https://sofifa.com/player/200389/jan-oblak/20/...   \n4     183277  https://sofifa.com/player/183277/eden-hazard/2...   \n\n          short_name                            long_name  age         dob  \\\n0           L. Messi       Lionel Andrés Messi Cuccittini   32  1987-06-24   \n1  Cristiano Ronaldo  Cristiano Ronaldo dos Santos Aveiro   34  1985-02-05   \n2          Neymar Jr        Neymar da Silva Santos Junior   27  1992-02-05   \n3           J. Oblak                            Jan Oblak   26  1993-01-07   \n4          E. Hazard                          Eden Hazard   28  1991-01-07   \n\n   height_cm  weight_kg nationality                 club  ...   lwb   ldm  \\\n0        170         72   Argentina         FC Barcelona  ...  68+2  66+2   \n1        187         83    Portugal             Juventus  ...  65+3  61+3   \n2        175         68      Brazil  Paris Saint-Germain  ...  66+3  61+3   \n3        188         87    Slovenia      Atlético Madrid  ...   NaN   NaN   \n4        175         74     Belgium          Real Madrid  ...  66+3  63+3   \n\n    cdm   rdm   rwb    lb   lcb    cb   rcb    rb  \n0  66+2  66+2  68+2  63+2  52+2  52+2  52+2  63+2  \n1  61+3  61+3  65+3  61+3  53+3  53+3  53+3  61+3  \n2  61+3  61+3  66+3  61+3  46+3  46+3  46+3  61+3  \n3   NaN   NaN   NaN   NaN   NaN   NaN   NaN   NaN  \n4  63+3  63+3  66+3  61+3  49+3  49+3  49+3  61+3  \n\n[5 rows x 104 columns]",
      "text/html": "<div>\n<style scoped>\n    .dataframe tbody tr th:only-of-type {\n        vertical-align: middle;\n    }\n\n    .dataframe tbody tr th {\n        vertical-align: top;\n    }\n\n    .dataframe thead th {\n        text-align: right;\n    }\n</style>\n<table border=\"1\" class=\"dataframe\">\n  <thead>\n    <tr style=\"text-align: right;\">\n      <th></th>\n      <th>sofifa_id</th>\n      <th>player_url</th>\n      <th>short_name</th>\n      <th>long_name</th>\n      <th>age</th>\n      <th>dob</th>\n      <th>height_cm</th>\n      <th>weight_kg</th>\n      <th>nationality</th>\n      <th>club</th>\n      <th>...</th>\n      <th>lwb</th>\n      <th>ldm</th>\n      <th>cdm</th>\n      <th>rdm</th>\n      <th>rwb</th>\n      <th>lb</th>\n      <th>lcb</th>\n      <th>cb</th>\n      <th>rcb</th>\n      <th>rb</th>\n    </tr>\n  </thead>\n  <tbody>\n    <tr>\n      <th>0</th>\n      <td>158023</td>\n      <td>https://sofifa.com/player/158023/lionel-messi/...</td>\n      <td>L. Messi</td>\n      <td>Lionel Andrés Messi Cuccittini</td>\n      <td>32</td>\n      <td>1987-06-24</td>\n      <td>170</td>\n      <td>72</td>\n      <td>Argentina</td>\n      <td>FC Barcelona</td>\n      <td>...</td>\n      <td>68+2</td>\n      <td>66+2</td>\n      <td>66+2</td>\n      <td>66+2</td>\n      <td>68+2</td>\n      <td>63+2</td>\n      <td>52+2</td>\n      <td>52+2</td>\n      <td>52+2</td>\n      <td>63+2</td>\n    </tr>\n    <tr>\n      <th>1</th>\n      <td>20801</td>\n      <td>https://sofifa.com/player/20801/c-ronaldo-dos-...</td>\n      <td>Cristiano Ronaldo</td>\n      <td>Cristiano Ronaldo dos Santos Aveiro</td>\n      <td>34</td>\n      <td>1985-02-05</td>\n      <td>187</td>\n      <td>83</td>\n      <td>Portugal</td>\n      <td>Juventus</td>\n      <td>...</td>\n      <td>65+3</td>\n      <td>61+3</td>\n      <td>61+3</td>\n      <td>61+3</td>\n      <td>65+3</td>\n      <td>61+3</td>\n      <td>53+3</td>\n      <td>53+3</td>\n      <td>53+3</td>\n      <td>61+3</td>\n    </tr>\n    <tr>\n      <th>2</th>\n      <td>190871</td>\n      <td>https://sofifa.com/player/190871/neymar-da-sil...</td>\n      <td>Neymar Jr</td>\n      <td>Neymar da Silva Santos Junior</td>\n      <td>27</td>\n      <td>1992-02-05</td>\n      <td>175</td>\n      <td>68</td>\n      <td>Brazil</td>\n      <td>Paris Saint-Germain</td>\n      <td>...</td>\n      <td>66+3</td>\n      <td>61+3</td>\n      <td>61+3</td>\n      <td>61+3</td>\n      <td>66+3</td>\n      <td>61+3</td>\n      <td>46+3</td>\n      <td>46+3</td>\n      <td>46+3</td>\n      <td>61+3</td>\n    </tr>\n    <tr>\n      <th>3</th>\n      <td>200389</td>\n      <td>https://sofifa.com/player/200389/jan-oblak/20/...</td>\n      <td>J. Oblak</td>\n      <td>Jan Oblak</td>\n      <td>26</td>\n      <td>1993-01-07</td>\n      <td>188</td>\n      <td>87</td>\n      <td>Slovenia</td>\n      <td>Atlético Madrid</td>\n      <td>...</td>\n      <td>NaN</td>\n      <td>NaN</td>\n      <td>NaN</td>\n      <td>NaN</td>\n      <td>NaN</td>\n      <td>NaN</td>\n      <td>NaN</td>\n      <td>NaN</td>\n      <td>NaN</td>\n      <td>NaN</td>\n    </tr>\n    <tr>\n      <th>4</th>\n      <td>183277</td>\n      <td>https://sofifa.com/player/183277/eden-hazard/2...</td>\n      <td>E. Hazard</td>\n      <td>Eden Hazard</td>\n      <td>28</td>\n      <td>1991-01-07</td>\n      <td>175</td>\n      <td>74</td>\n      <td>Belgium</td>\n      <td>Real Madrid</td>\n      <td>...</td>\n      <td>66+3</td>\n      <td>63+3</td>\n      <td>63+3</td>\n      <td>63+3</td>\n      <td>66+3</td>\n      <td>61+3</td>\n      <td>49+3</td>\n      <td>49+3</td>\n      <td>49+3</td>\n      <td>61+3</td>\n    </tr>\n  </tbody>\n</table>\n<p>5 rows × 104 columns</p>\n</div>"
     },
     "execution_count": 3,
     "metadata": {},
     "output_type": "execute_result"
    }
   ],
   "source": [
    "df_20 = pd.read_csv(\"players_20.csv\",error_bad_lines=False)\n",
    "df_20.head()"
   ],
   "metadata": {
    "collapsed": false,
    "pycharm": {
     "name": "#%%\n"
    }
   }
  },
  {
   "cell_type": "code",
   "execution_count": 4,
   "outputs": [
    {
     "data": {
      "text/plain": "(18278, 104)"
     },
     "execution_count": 4,
     "metadata": {},
     "output_type": "execute_result"
    }
   ],
   "source": [
    "df_20.shape"
   ],
   "metadata": {
    "collapsed": false,
    "pycharm": {
     "name": "#%%\n"
    }
   }
  },
  {
   "cell_type": "code",
   "execution_count": 5,
   "outputs": [
    {
     "data": {
      "text/plain": "Index(['sofifa_id', 'player_url', 'short_name', 'long_name', 'age', 'dob',\n       'height_cm', 'weight_kg', 'nationality', 'club',\n       ...\n       'lwb', 'ldm', 'cdm', 'rdm', 'rwb', 'lb', 'lcb', 'cb', 'rcb', 'rb'],\n      dtype='object', length=104)"
     },
     "execution_count": 5,
     "metadata": {},
     "output_type": "execute_result"
    }
   ],
   "source": [
    "df_20.columns"
   ],
   "metadata": {
    "collapsed": false,
    "pycharm": {
     "name": "#%%\n"
    }
   }
  },
  {
   "cell_type": "code",
   "execution_count": 6,
   "outputs": [
    {
     "data": {
      "text/plain": "['sofifa_id',\n 'player_url',\n 'short_name',\n 'long_name',\n 'age',\n 'dob',\n 'height_cm',\n 'weight_kg',\n 'nationality',\n 'club',\n 'overall',\n 'potential',\n 'value_eur',\n 'wage_eur',\n 'player_positions',\n 'preferred_foot',\n 'international_reputation',\n 'weak_foot',\n 'skill_moves',\n 'work_rate',\n 'body_type',\n 'real_face',\n 'release_clause_eur',\n 'player_tags',\n 'team_position',\n 'team_jersey_number',\n 'loaned_from',\n 'joined',\n 'contract_valid_until',\n 'nation_position',\n 'nation_jersey_number',\n 'pace',\n 'shooting',\n 'passing',\n 'dribbling',\n 'defending',\n 'physic',\n 'gk_diving',\n 'gk_handling',\n 'gk_kicking',\n 'gk_reflexes',\n 'gk_speed',\n 'gk_positioning',\n 'player_traits',\n 'attacking_crossing',\n 'attacking_finishing',\n 'attacking_heading_accuracy',\n 'attacking_short_passing',\n 'attacking_volleys',\n 'skill_dribbling',\n 'skill_curve',\n 'skill_fk_accuracy',\n 'skill_long_passing',\n 'skill_ball_control',\n 'movement_acceleration',\n 'movement_sprint_speed',\n 'movement_agility',\n 'movement_reactions',\n 'movement_balance',\n 'power_shot_power',\n 'power_jumping',\n 'power_stamina',\n 'power_strength',\n 'power_long_shots',\n 'mentality_aggression',\n 'mentality_interceptions',\n 'mentality_positioning',\n 'mentality_vision',\n 'mentality_penalties',\n 'mentality_composure',\n 'defending_marking',\n 'defending_standing_tackle',\n 'defending_sliding_tackle',\n 'goalkeeping_diving',\n 'goalkeeping_handling',\n 'goalkeeping_kicking',\n 'goalkeeping_positioning',\n 'goalkeeping_reflexes',\n 'ls',\n 'st',\n 'rs',\n 'lw',\n 'lf',\n 'cf',\n 'rf',\n 'rw',\n 'lam',\n 'cam',\n 'ram',\n 'lm',\n 'lcm',\n 'cm',\n 'rcm',\n 'rm',\n 'lwb',\n 'ldm',\n 'cdm',\n 'rdm',\n 'rwb',\n 'lb',\n 'lcb',\n 'cb',\n 'rcb',\n 'rb']"
     },
     "execution_count": 6,
     "metadata": {},
     "output_type": "execute_result"
    }
   ],
   "source": [
    "cols = list(df_20.columns)\n",
    "cols\n"
   ],
   "metadata": {
    "collapsed": false,
    "pycharm": {
     "name": "#%%\n"
    }
   }
  },
  {
   "cell_type": "code",
   "execution_count": 7,
   "outputs": [],
   "source": [
    "### Data Preprocessing\n",
    "\n",
    "df_20 = df_20.drop([\n",
    "    \"dob\",\"sofifa_id\",\"player_url\",\"long_name\",\n",
    "    \"body_type\",\"real_face\",\"loaned_from\",\"nation_position\",\n",
    "    \"nation_jersey_number\"\n",
    "],axis=1)"
   ],
   "metadata": {
    "collapsed": false,
    "pycharm": {
     "name": "#%%\n"
    }
   }
  },
  {
   "cell_type": "code",
   "execution_count": 8,
   "outputs": [
    {
     "data": {
      "text/plain": "(18278, 95)"
     },
     "execution_count": 8,
     "metadata": {},
     "output_type": "execute_result"
    }
   ],
   "source": [
    "df_20.shape"
   ],
   "metadata": {
    "collapsed": false,
    "pycharm": {
     "name": "#%%\n"
    }
   }
  },
  {
   "cell_type": "code",
   "execution_count": 9,
   "outputs": [],
   "source": [
    "df_20['BMI'] = df_20['weight_kg'] / (df_20['height_cm']/100)**2"
   ],
   "metadata": {
    "collapsed": false,
    "pycharm": {
     "name": "#%%\n"
    }
   }
  },
  {
   "cell_type": "code",
   "execution_count": 10,
   "outputs": [
    {
     "data": {
      "text/plain": "          short_name player_positions\n0           L. Messi       RW, CF, ST\n1  Cristiano Ronaldo           ST, LW\n2          Neymar Jr          LW, CAM\n3           J. Oblak               GK\n4          E. Hazard           LW, CF",
      "text/html": "<div>\n<style scoped>\n    .dataframe tbody tr th:only-of-type {\n        vertical-align: middle;\n    }\n\n    .dataframe tbody tr th {\n        vertical-align: top;\n    }\n\n    .dataframe thead th {\n        text-align: right;\n    }\n</style>\n<table border=\"1\" class=\"dataframe\">\n  <thead>\n    <tr style=\"text-align: right;\">\n      <th></th>\n      <th>short_name</th>\n      <th>player_positions</th>\n    </tr>\n  </thead>\n  <tbody>\n    <tr>\n      <th>0</th>\n      <td>L. Messi</td>\n      <td>RW, CF, ST</td>\n    </tr>\n    <tr>\n      <th>1</th>\n      <td>Cristiano Ronaldo</td>\n      <td>ST, LW</td>\n    </tr>\n    <tr>\n      <th>2</th>\n      <td>Neymar Jr</td>\n      <td>LW, CAM</td>\n    </tr>\n    <tr>\n      <th>3</th>\n      <td>J. Oblak</td>\n      <td>GK</td>\n    </tr>\n    <tr>\n      <th>4</th>\n      <td>E. Hazard</td>\n      <td>LW, CF</td>\n    </tr>\n  </tbody>\n</table>\n</div>"
     },
     "execution_count": 10,
     "metadata": {},
     "output_type": "execute_result"
    }
   ],
   "source": [
    "### Convert categorical to integer\n",
    "df_20[['short_name','player_positions']].head()\n"
   ],
   "metadata": {
    "collapsed": false,
    "pycharm": {
     "name": "#%%\n"
    }
   }
  },
  {
   "cell_type": "code",
   "execution_count": 11,
   "outputs": [
    {
     "data": {
      "text/plain": "   Position_CAM  Position_CB  Position_CDM  Position_CF  Position_CM  \\\n0             0            0             0            1            0   \n1             0            0             0            0            0   \n2             1            0             0            0            0   \n3             0            0             0            0            0   \n4             0            0             0            1            0   \n\n   Position_GK  Position_LB  Position_LM  Position_LW  Position_LWB  \\\n0            0            0            0            0             0   \n1            0            0            0            1             0   \n2            0            0            0            1             0   \n3            1            0            0            0             0   \n4            0            0            0            1             0   \n\n   Position_RB  Position_RM  Position_RW  Position_RWB  Position_ST  \n0            0            0            1             0            1  \n1            0            0            0             0            1  \n2            0            0            0             0            0  \n3            0            0            0             0            0  \n4            0            0            0             0            0  ",
      "text/html": "<div>\n<style scoped>\n    .dataframe tbody tr th:only-of-type {\n        vertical-align: middle;\n    }\n\n    .dataframe tbody tr th {\n        vertical-align: top;\n    }\n\n    .dataframe thead th {\n        text-align: right;\n    }\n</style>\n<table border=\"1\" class=\"dataframe\">\n  <thead>\n    <tr style=\"text-align: right;\">\n      <th></th>\n      <th>Position_CAM</th>\n      <th>Position_CB</th>\n      <th>Position_CDM</th>\n      <th>Position_CF</th>\n      <th>Position_CM</th>\n      <th>Position_GK</th>\n      <th>Position_LB</th>\n      <th>Position_LM</th>\n      <th>Position_LW</th>\n      <th>Position_LWB</th>\n      <th>Position_RB</th>\n      <th>Position_RM</th>\n      <th>Position_RW</th>\n      <th>Position_RWB</th>\n      <th>Position_ST</th>\n    </tr>\n  </thead>\n  <tbody>\n    <tr>\n      <th>0</th>\n      <td>0</td>\n      <td>0</td>\n      <td>0</td>\n      <td>1</td>\n      <td>0</td>\n      <td>0</td>\n      <td>0</td>\n      <td>0</td>\n      <td>0</td>\n      <td>0</td>\n      <td>0</td>\n      <td>0</td>\n      <td>1</td>\n      <td>0</td>\n      <td>1</td>\n    </tr>\n    <tr>\n      <th>1</th>\n      <td>0</td>\n      <td>0</td>\n      <td>0</td>\n      <td>0</td>\n      <td>0</td>\n      <td>0</td>\n      <td>0</td>\n      <td>0</td>\n      <td>1</td>\n      <td>0</td>\n      <td>0</td>\n      <td>0</td>\n      <td>0</td>\n      <td>0</td>\n      <td>1</td>\n    </tr>\n    <tr>\n      <th>2</th>\n      <td>1</td>\n      <td>0</td>\n      <td>0</td>\n      <td>0</td>\n      <td>0</td>\n      <td>0</td>\n      <td>0</td>\n      <td>0</td>\n      <td>1</td>\n      <td>0</td>\n      <td>0</td>\n      <td>0</td>\n      <td>0</td>\n      <td>0</td>\n      <td>0</td>\n    </tr>\n    <tr>\n      <th>3</th>\n      <td>0</td>\n      <td>0</td>\n      <td>0</td>\n      <td>0</td>\n      <td>0</td>\n      <td>1</td>\n      <td>0</td>\n      <td>0</td>\n      <td>0</td>\n      <td>0</td>\n      <td>0</td>\n      <td>0</td>\n      <td>0</td>\n      <td>0</td>\n      <td>0</td>\n    </tr>\n    <tr>\n      <th>4</th>\n      <td>0</td>\n      <td>0</td>\n      <td>0</td>\n      <td>1</td>\n      <td>0</td>\n      <td>0</td>\n      <td>0</td>\n      <td>0</td>\n      <td>1</td>\n      <td>0</td>\n      <td>0</td>\n      <td>0</td>\n      <td>0</td>\n      <td>0</td>\n      <td>0</td>\n    </tr>\n  </tbody>\n</table>\n</div>"
     },
     "execution_count": 11,
     "metadata": {},
     "output_type": "execute_result"
    }
   ],
   "source": [
    "new_player_positions = df_20['player_positions'].str.get_dummies(sep=\", \").add_prefix(\"Position_\")\n",
    "new_player_positions.head()\n"
   ],
   "metadata": {
    "collapsed": false,
    "pycharm": {
     "name": "#%%\n"
    }
   }
  },
  {
   "cell_type": "code",
   "execution_count": 12,
   "outputs": [
    {
     "data": {
      "text/plain": "          short_name  age  height_cm  weight_kg nationality  \\\n0           L. Messi   32        170         72   Argentina   \n1  Cristiano Ronaldo   34        187         83    Portugal   \n2          Neymar Jr   27        175         68      Brazil   \n3           J. Oblak   26        188         87    Slovenia   \n4          E. Hazard   28        175         74     Belgium   \n\n                  club  overall  potential  value_eur  wage_eur  ...  \\\n0         FC Barcelona       94         94   95500000    565000  ...   \n1             Juventus       93         93   58500000    405000  ...   \n2  Paris Saint-Germain       92         92  105500000    290000  ...   \n3      Atlético Madrid       91         93   77500000    125000  ...   \n4          Real Madrid       91         91   90000000    470000  ...   \n\n  Position_GK Position_LB  Position_LM  Position_LW  Position_LWB Position_RB  \\\n0           0           0            0            0             0           0   \n1           0           0            0            1             0           0   \n2           0           0            0            1             0           0   \n3           1           0            0            0             0           0   \n4           0           0            0            1             0           0   \n\n   Position_RM Position_RW Position_RWB  Position_ST  \n0            0           1            0            1  \n1            0           0            0            1  \n2            0           0            0            0  \n3            0           0            0            0  \n4            0           0            0            0  \n\n[5 rows x 111 columns]",
      "text/html": "<div>\n<style scoped>\n    .dataframe tbody tr th:only-of-type {\n        vertical-align: middle;\n    }\n\n    .dataframe tbody tr th {\n        vertical-align: top;\n    }\n\n    .dataframe thead th {\n        text-align: right;\n    }\n</style>\n<table border=\"1\" class=\"dataframe\">\n  <thead>\n    <tr style=\"text-align: right;\">\n      <th></th>\n      <th>short_name</th>\n      <th>age</th>\n      <th>height_cm</th>\n      <th>weight_kg</th>\n      <th>nationality</th>\n      <th>club</th>\n      <th>overall</th>\n      <th>potential</th>\n      <th>value_eur</th>\n      <th>wage_eur</th>\n      <th>...</th>\n      <th>Position_GK</th>\n      <th>Position_LB</th>\n      <th>Position_LM</th>\n      <th>Position_LW</th>\n      <th>Position_LWB</th>\n      <th>Position_RB</th>\n      <th>Position_RM</th>\n      <th>Position_RW</th>\n      <th>Position_RWB</th>\n      <th>Position_ST</th>\n    </tr>\n  </thead>\n  <tbody>\n    <tr>\n      <th>0</th>\n      <td>L. Messi</td>\n      <td>32</td>\n      <td>170</td>\n      <td>72</td>\n      <td>Argentina</td>\n      <td>FC Barcelona</td>\n      <td>94</td>\n      <td>94</td>\n      <td>95500000</td>\n      <td>565000</td>\n      <td>...</td>\n      <td>0</td>\n      <td>0</td>\n      <td>0</td>\n      <td>0</td>\n      <td>0</td>\n      <td>0</td>\n      <td>0</td>\n      <td>1</td>\n      <td>0</td>\n      <td>1</td>\n    </tr>\n    <tr>\n      <th>1</th>\n      <td>Cristiano Ronaldo</td>\n      <td>34</td>\n      <td>187</td>\n      <td>83</td>\n      <td>Portugal</td>\n      <td>Juventus</td>\n      <td>93</td>\n      <td>93</td>\n      <td>58500000</td>\n      <td>405000</td>\n      <td>...</td>\n      <td>0</td>\n      <td>0</td>\n      <td>0</td>\n      <td>1</td>\n      <td>0</td>\n      <td>0</td>\n      <td>0</td>\n      <td>0</td>\n      <td>0</td>\n      <td>1</td>\n    </tr>\n    <tr>\n      <th>2</th>\n      <td>Neymar Jr</td>\n      <td>27</td>\n      <td>175</td>\n      <td>68</td>\n      <td>Brazil</td>\n      <td>Paris Saint-Germain</td>\n      <td>92</td>\n      <td>92</td>\n      <td>105500000</td>\n      <td>290000</td>\n      <td>...</td>\n      <td>0</td>\n      <td>0</td>\n      <td>0</td>\n      <td>1</td>\n      <td>0</td>\n      <td>0</td>\n      <td>0</td>\n      <td>0</td>\n      <td>0</td>\n      <td>0</td>\n    </tr>\n    <tr>\n      <th>3</th>\n      <td>J. Oblak</td>\n      <td>26</td>\n      <td>188</td>\n      <td>87</td>\n      <td>Slovenia</td>\n      <td>Atlético Madrid</td>\n      <td>91</td>\n      <td>93</td>\n      <td>77500000</td>\n      <td>125000</td>\n      <td>...</td>\n      <td>1</td>\n      <td>0</td>\n      <td>0</td>\n      <td>0</td>\n      <td>0</td>\n      <td>0</td>\n      <td>0</td>\n      <td>0</td>\n      <td>0</td>\n      <td>0</td>\n    </tr>\n    <tr>\n      <th>4</th>\n      <td>E. Hazard</td>\n      <td>28</td>\n      <td>175</td>\n      <td>74</td>\n      <td>Belgium</td>\n      <td>Real Madrid</td>\n      <td>91</td>\n      <td>91</td>\n      <td>90000000</td>\n      <td>470000</td>\n      <td>...</td>\n      <td>0</td>\n      <td>0</td>\n      <td>0</td>\n      <td>1</td>\n      <td>0</td>\n      <td>0</td>\n      <td>0</td>\n      <td>0</td>\n      <td>0</td>\n      <td>0</td>\n    </tr>\n  </tbody>\n</table>\n<p>5 rows × 111 columns</p>\n</div>"
     },
     "execution_count": 12,
     "metadata": {},
     "output_type": "execute_result"
    }
   ],
   "source": [
    "df_20 = pd.concat([df_20,new_player_positions],axis=1)\n",
    "df_20.head()"
   ],
   "metadata": {
    "collapsed": false,
    "pycharm": {
     "name": "#%%\n"
    }
   }
  },
  {
   "cell_type": "code",
   "execution_count": 13,
   "outputs": [],
   "source": [
    "df_20 = df_20.drop('player_positions',axis=1)"
   ],
   "metadata": {
    "collapsed": false,
    "pycharm": {
     "name": "#%%\n"
    }
   }
  },
  {
   "cell_type": "code",
   "execution_count": 14,
   "outputs": [
    {
     "data": {
      "text/plain": "          short_name  age  height_cm  weight_kg nationality  \\\n0           L. Messi   32        170         72   Argentina   \n1  Cristiano Ronaldo   34        187         83    Portugal   \n2          Neymar Jr   27        175         68      Brazil   \n3           J. Oblak   26        188         87    Slovenia   \n4          E. Hazard   28        175         74     Belgium   \n\n                  club  overall  potential  value_eur  wage_eur  ...  \\\n0         FC Barcelona       94         94   95500000    565000  ...   \n1             Juventus       93         93   58500000    405000  ...   \n2  Paris Saint-Germain       92         92  105500000    290000  ...   \n3      Atlético Madrid       91         93   77500000    125000  ...   \n4          Real Madrid       91         91   90000000    470000  ...   \n\n  Position_GK  Position_LB  Position_LM  Position_LW Position_LWB  \\\n0           0            0            0            0            0   \n1           0            0            0            1            0   \n2           0            0            0            1            0   \n3           1            0            0            0            0   \n4           0            0            0            1            0   \n\n   Position_RB Position_RM Position_RW  Position_RWB Position_ST  \n0            0           0           1             0           1  \n1            0           0           0             0           1  \n2            0           0           0             0           0  \n3            0           0           0             0           0  \n4            0           0           0             0           0  \n\n[5 rows x 110 columns]",
      "text/html": "<div>\n<style scoped>\n    .dataframe tbody tr th:only-of-type {\n        vertical-align: middle;\n    }\n\n    .dataframe tbody tr th {\n        vertical-align: top;\n    }\n\n    .dataframe thead th {\n        text-align: right;\n    }\n</style>\n<table border=\"1\" class=\"dataframe\">\n  <thead>\n    <tr style=\"text-align: right;\">\n      <th></th>\n      <th>short_name</th>\n      <th>age</th>\n      <th>height_cm</th>\n      <th>weight_kg</th>\n      <th>nationality</th>\n      <th>club</th>\n      <th>overall</th>\n      <th>potential</th>\n      <th>value_eur</th>\n      <th>wage_eur</th>\n      <th>...</th>\n      <th>Position_GK</th>\n      <th>Position_LB</th>\n      <th>Position_LM</th>\n      <th>Position_LW</th>\n      <th>Position_LWB</th>\n      <th>Position_RB</th>\n      <th>Position_RM</th>\n      <th>Position_RW</th>\n      <th>Position_RWB</th>\n      <th>Position_ST</th>\n    </tr>\n  </thead>\n  <tbody>\n    <tr>\n      <th>0</th>\n      <td>L. Messi</td>\n      <td>32</td>\n      <td>170</td>\n      <td>72</td>\n      <td>Argentina</td>\n      <td>FC Barcelona</td>\n      <td>94</td>\n      <td>94</td>\n      <td>95500000</td>\n      <td>565000</td>\n      <td>...</td>\n      <td>0</td>\n      <td>0</td>\n      <td>0</td>\n      <td>0</td>\n      <td>0</td>\n      <td>0</td>\n      <td>0</td>\n      <td>1</td>\n      <td>0</td>\n      <td>1</td>\n    </tr>\n    <tr>\n      <th>1</th>\n      <td>Cristiano Ronaldo</td>\n      <td>34</td>\n      <td>187</td>\n      <td>83</td>\n      <td>Portugal</td>\n      <td>Juventus</td>\n      <td>93</td>\n      <td>93</td>\n      <td>58500000</td>\n      <td>405000</td>\n      <td>...</td>\n      <td>0</td>\n      <td>0</td>\n      <td>0</td>\n      <td>1</td>\n      <td>0</td>\n      <td>0</td>\n      <td>0</td>\n      <td>0</td>\n      <td>0</td>\n      <td>1</td>\n    </tr>\n    <tr>\n      <th>2</th>\n      <td>Neymar Jr</td>\n      <td>27</td>\n      <td>175</td>\n      <td>68</td>\n      <td>Brazil</td>\n      <td>Paris Saint-Germain</td>\n      <td>92</td>\n      <td>92</td>\n      <td>105500000</td>\n      <td>290000</td>\n      <td>...</td>\n      <td>0</td>\n      <td>0</td>\n      <td>0</td>\n      <td>1</td>\n      <td>0</td>\n      <td>0</td>\n      <td>0</td>\n      <td>0</td>\n      <td>0</td>\n      <td>0</td>\n    </tr>\n    <tr>\n      <th>3</th>\n      <td>J. Oblak</td>\n      <td>26</td>\n      <td>188</td>\n      <td>87</td>\n      <td>Slovenia</td>\n      <td>Atlético Madrid</td>\n      <td>91</td>\n      <td>93</td>\n      <td>77500000</td>\n      <td>125000</td>\n      <td>...</td>\n      <td>1</td>\n      <td>0</td>\n      <td>0</td>\n      <td>0</td>\n      <td>0</td>\n      <td>0</td>\n      <td>0</td>\n      <td>0</td>\n      <td>0</td>\n      <td>0</td>\n    </tr>\n    <tr>\n      <th>4</th>\n      <td>E. Hazard</td>\n      <td>28</td>\n      <td>175</td>\n      <td>74</td>\n      <td>Belgium</td>\n      <td>Real Madrid</td>\n      <td>91</td>\n      <td>91</td>\n      <td>90000000</td>\n      <td>470000</td>\n      <td>...</td>\n      <td>0</td>\n      <td>0</td>\n      <td>0</td>\n      <td>1</td>\n      <td>0</td>\n      <td>0</td>\n      <td>0</td>\n      <td>0</td>\n      <td>0</td>\n      <td>0</td>\n    </tr>\n  </tbody>\n</table>\n<p>5 rows × 110 columns</p>\n</div>"
     },
     "execution_count": 14,
     "metadata": {},
     "output_type": "execute_result"
    }
   ],
   "source": [
    "df_20.head()"
   ],
   "metadata": {
    "collapsed": false,
    "pycharm": {
     "name": "#%%\n"
    }
   }
  },
  {
   "cell_type": "code",
   "execution_count": null,
   "outputs": [],
   "source": [],
   "metadata": {
    "collapsed": false,
    "pycharm": {
     "name": "#%%\n"
    }
   }
  }
 ],
 "metadata": {
  "kernelspec": {
   "display_name": "Python 3",
   "language": "python",
   "name": "python3"
  },
  "language_info": {
   "codemirror_mode": {
    "name": "ipython",
    "version": 2
   },
   "file_extension": ".py",
   "mimetype": "text/x-python",
   "name": "python",
   "nbconvert_exporter": "python",
   "pygments_lexer": "ipython2",
   "version": "2.7.6"
  }
 },
 "nbformat": 4,
 "nbformat_minor": 0
}